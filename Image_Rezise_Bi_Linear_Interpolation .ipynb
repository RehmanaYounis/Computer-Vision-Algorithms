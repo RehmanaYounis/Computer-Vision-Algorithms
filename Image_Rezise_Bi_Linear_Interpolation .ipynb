{
 "cells": [
  {
   "cell_type": "markdown",
   "id": "b69bcc71",
   "metadata": {},
   "source": [
    "# Image Resize Using Bi Linear Interpolation\n",
    "\n",
    "## Steps\n",
    "\n",
    "1. Create a dummy array of size width*2 -1 , height*2 -1\n",
    "2. Copy elements from original to new array at their locations\n",
    "3. Calculate elements between rows\n",
    "4. Calculate elements between columns\n",
    "5. Calculate elements diagonal wise\n",
    "6. Apply this function to each layer (RGB)"
   ]
  },
  {
   "cell_type": "code",
   "execution_count": null,
   "id": "23cdf0eb",
   "metadata": {},
   "outputs": [],
   "source": [
    "from PIL import Image\n",
    "import numpy as np\n"
   ]
  },
  {
   "cell_type": "code",
   "execution_count": 35,
   "id": "080868f8",
   "metadata": {},
   "outputs": [],
   "source": [
    "\n",
    "\n",
    "\n",
    "def resize(img):\n",
    "    width = img.shape[0]\n",
    "    height =img.shape[1]\n",
    "\n",
    "    new_img=np.zeros((width*2 -1, height*2 -1),int)\n",
    "    new_width = new_img.shape[0]\n",
    "    new_height =new_img.shape[1]\n",
    "\n",
    "    new_img[0:new_width:2, 0:new_height:2]=img[0:width, 0:height]\n",
    "    new_img\n",
    "\n",
    "\n",
    "    for row in range(0, new_width,2):\n",
    "        for col in range(1,new_height,2):\n",
    "            new_img[row][col]=round((new_img[row][col-1] +new_img[row][col+1])/2)    \n",
    "\n",
    "    for col in range(0, new_height,2):\n",
    "        for row in range(1,new_width,2):\n",
    "            new_img[row][col]=round((new_img[row-1][col] +new_img[row+1][col])/2)    \n",
    "\n",
    "    for row in range(1, new_width,2):\n",
    "        for col in range(1,new_height,2):\n",
    "            new_img[row][col]=round((new_img[row][col-1] +new_img[row][col+1]+new_img[row-1][col] +new_img[row+1][col])/4)    \n",
    "    return new_img"
   ]
  },
  {
   "cell_type": "code",
   "execution_count": 44,
   "id": "d9bf58c0",
   "metadata": {},
   "outputs": [],
   "source": [
    "img=Image.open('img.jpg')\n",
    "img=np.asarray(img)\n",
    "width = img.shape[0]\n",
    "height =img.shape[1]\n",
    "channels=img.shape[2]\n",
    "\n",
    "new_img=np.zeros((width*2 -1, height*2 -1, channel))\n",
    "new_width = new_img.shape[0]\n",
    "new_height =new_img.shape[1]\n",
    "\n",
    "new_img[0:new_width:2, 0:new_height:2]=img[0:width, 0:height]\n",
    "\n",
    "for ch in range(channels):\n",
    "    new_img[:,:,ch]=resize(img[:,:,ch])"
   ]
  },
  {
   "cell_type": "code",
   "execution_count": 45,
   "id": "ac5fcb53",
   "metadata": {},
   "outputs": [
    {
     "name": "stdout",
     "output_type": "stream",
     "text": [
      "(443, 453, 3)\n"
     ]
    }
   ],
   "source": [
    "\n",
    "new_img=new_img.astype(np.uint8)\n",
    "print(new_img.shape)\n",
    "new_img=Image.fromarray(new_img)\n",
    "\n",
    "new_img.show()"
   ]
  },
  {
   "cell_type": "code",
   "execution_count": null,
   "id": "45dfa708",
   "metadata": {},
   "outputs": [],
   "source": []
  }
 ],
 "metadata": {
  "kernelspec": {
   "display_name": "Python 3",
   "language": "python",
   "name": "python3"
  },
  "language_info": {
   "codemirror_mode": {
    "name": "ipython",
    "version": 3
   },
   "file_extension": ".py",
   "mimetype": "text/x-python",
   "name": "python",
   "nbconvert_exporter": "python",
   "pygments_lexer": "ipython3",
   "version": "3.8.8"
  }
 },
 "nbformat": 4,
 "nbformat_minor": 5
}
